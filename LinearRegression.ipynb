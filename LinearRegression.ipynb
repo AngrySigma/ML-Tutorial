{
 "cells": [
  {
   "cell_type": "code",
   "execution_count": 43,
   "id": "33e18704",
   "metadata": {},
   "outputs": [],
   "source": [
    "from sklearn.datasets import load_boston\n",
    "from sklearn.linear_model import LinearRegression, Ridge, Lasso\n",
    "import pandas as pd\n",
    "import numpy as np\n",
    "import requests\n",
    "import re"
   ]
  },
  {
   "cell_type": "code",
   "execution_count": 80,
   "id": "5dac0053",
   "metadata": {},
   "outputs": [],
   "source": [
    "data_url = \"http://lib.stat.cmu.edu/datasets/boston\"\n",
    "raw_df = pd.read_csv(data_url, sep=\"\\s+\", skiprows=22, header=None)\n",
    "data = np.hstack([raw_df.values[::2, :], raw_df.values[1::2, :2]])\n",
    "target = raw_df.values[1::2, 2]\n",
    "features = [re.search(r'\\S+\\s', string).group()\n",
    "     for string in requests.get(data_url).text.split('\\n')\n",
    "     if re.search(r'[A-Q]+', string)][4:]"
   ]
  },
  {
   "cell_type": "code",
   "execution_count": 81,
   "id": "289c8193",
   "metadata": {},
   "outputs": [],
   "source": [
    "lr1 = LinearRegression()\n",
    "lr2 = Ridge(alpha=10)\n",
    "lr3 = Lasso(alpha=2)"
   ]
  },
  {
   "cell_type": "code",
   "execution_count": 82,
   "id": "6957c7d2",
   "metadata": {},
   "outputs": [
    {
     "data": {
      "text/html": [
       "<style>#sk-container-id-4 {color: black;background-color: white;}#sk-container-id-4 pre{padding: 0;}#sk-container-id-4 div.sk-toggleable {background-color: white;}#sk-container-id-4 label.sk-toggleable__label {cursor: pointer;display: block;width: 100%;margin-bottom: 0;padding: 0.3em;box-sizing: border-box;text-align: center;}#sk-container-id-4 label.sk-toggleable__label-arrow:before {content: \"▸\";float: left;margin-right: 0.25em;color: #696969;}#sk-container-id-4 label.sk-toggleable__label-arrow:hover:before {color: black;}#sk-container-id-4 div.sk-estimator:hover label.sk-toggleable__label-arrow:before {color: black;}#sk-container-id-4 div.sk-toggleable__content {max-height: 0;max-width: 0;overflow: hidden;text-align: left;background-color: #f0f8ff;}#sk-container-id-4 div.sk-toggleable__content pre {margin: 0.2em;color: black;border-radius: 0.25em;background-color: #f0f8ff;}#sk-container-id-4 input.sk-toggleable__control:checked~div.sk-toggleable__content {max-height: 200px;max-width: 100%;overflow: auto;}#sk-container-id-4 input.sk-toggleable__control:checked~label.sk-toggleable__label-arrow:before {content: \"▾\";}#sk-container-id-4 div.sk-estimator input.sk-toggleable__control:checked~label.sk-toggleable__label {background-color: #d4ebff;}#sk-container-id-4 div.sk-label input.sk-toggleable__control:checked~label.sk-toggleable__label {background-color: #d4ebff;}#sk-container-id-4 input.sk-hidden--visually {border: 0;clip: rect(1px 1px 1px 1px);clip: rect(1px, 1px, 1px, 1px);height: 1px;margin: -1px;overflow: hidden;padding: 0;position: absolute;width: 1px;}#sk-container-id-4 div.sk-estimator {font-family: monospace;background-color: #f0f8ff;border: 1px dotted black;border-radius: 0.25em;box-sizing: border-box;margin-bottom: 0.5em;}#sk-container-id-4 div.sk-estimator:hover {background-color: #d4ebff;}#sk-container-id-4 div.sk-parallel-item::after {content: \"\";width: 100%;border-bottom: 1px solid gray;flex-grow: 1;}#sk-container-id-4 div.sk-label:hover label.sk-toggleable__label {background-color: #d4ebff;}#sk-container-id-4 div.sk-serial::before {content: \"\";position: absolute;border-left: 1px solid gray;box-sizing: border-box;top: 0;bottom: 0;left: 50%;z-index: 0;}#sk-container-id-4 div.sk-serial {display: flex;flex-direction: column;align-items: center;background-color: white;padding-right: 0.2em;padding-left: 0.2em;position: relative;}#sk-container-id-4 div.sk-item {position: relative;z-index: 1;}#sk-container-id-4 div.sk-parallel {display: flex;align-items: stretch;justify-content: center;background-color: white;position: relative;}#sk-container-id-4 div.sk-item::before, #sk-container-id-4 div.sk-parallel-item::before {content: \"\";position: absolute;border-left: 1px solid gray;box-sizing: border-box;top: 0;bottom: 0;left: 50%;z-index: -1;}#sk-container-id-4 div.sk-parallel-item {display: flex;flex-direction: column;z-index: 1;position: relative;background-color: white;}#sk-container-id-4 div.sk-parallel-item:first-child::after {align-self: flex-end;width: 50%;}#sk-container-id-4 div.sk-parallel-item:last-child::after {align-self: flex-start;width: 50%;}#sk-container-id-4 div.sk-parallel-item:only-child::after {width: 0;}#sk-container-id-4 div.sk-dashed-wrapped {border: 1px dashed gray;margin: 0 0.4em 0.5em 0.4em;box-sizing: border-box;padding-bottom: 0.4em;background-color: white;}#sk-container-id-4 div.sk-label label {font-family: monospace;font-weight: bold;display: inline-block;line-height: 1.2em;}#sk-container-id-4 div.sk-label-container {text-align: center;}#sk-container-id-4 div.sk-container {/* jupyter's `normalize.less` sets `[hidden] { display: none; }` but bootstrap.min.css set `[hidden] { display: none !important; }` so we also need the `!important` here to be able to override the default hidden behavior on the sphinx rendered scikit-learn.org. See: https://github.com/scikit-learn/scikit-learn/issues/21755 */display: inline-block !important;position: relative;}#sk-container-id-4 div.sk-text-repr-fallback {display: none;}</style><div id=\"sk-container-id-4\" class=\"sk-top-container\"><div class=\"sk-text-repr-fallback\"><pre>Lasso(alpha=2)</pre><b>In a Jupyter environment, please rerun this cell to show the HTML representation or trust the notebook. <br />On GitHub, the HTML representation is unable to render, please try loading this page with nbviewer.org.</b></div><div class=\"sk-container\" hidden><div class=\"sk-item\"><div class=\"sk-estimator sk-toggleable\"><input class=\"sk-toggleable__control sk-hidden--visually\" id=\"sk-estimator-id-4\" type=\"checkbox\" checked><label for=\"sk-estimator-id-4\" class=\"sk-toggleable__label sk-toggleable__label-arrow\">Lasso</label><div class=\"sk-toggleable__content\"><pre>Lasso(alpha=2)</pre></div></div></div></div></div>"
      ],
      "text/plain": [
       "Lasso(alpha=2)"
      ]
     },
     "execution_count": 82,
     "metadata": {},
     "output_type": "execute_result"
    }
   ],
   "source": [
    "lr1.fit(data, target)\n",
    "lr2.fit(data, target)\n",
    "lr3.fit(data, target)"
   ]
  },
  {
   "cell_type": "code",
   "execution_count": 119,
   "id": "f06579f3",
   "metadata": {},
   "outputs": [
    {
     "name": "stdout",
     "output_type": "stream",
     "text": [
      "Linear Regression\n",
      "CRIM      :  -0.11\n",
      "ZN        :   0.05\n",
      "INDUS     :   0.02\n",
      "CHAS      :   2.69\n",
      "NOX       : -17.77\n",
      "RM        :   3.81\n",
      "AGE       :   0.00\n",
      "DIS       :  -1.48\n",
      "RAD       :   0.31\n",
      "TAX       :  -0.01\n",
      "PTRATIO   :  -0.95\n",
      "B         :   0.01\n",
      "LSTAT     :  -0.52\n",
      "coef = 340.85\n"
     ]
    }
   ],
   "source": [
    "print('Linear Regression')\n",
    "for feature, c in zip(features, lr1.coef_):\n",
    "    print('{0:10s}: {1:6.2f}'.format(feature, c))\n",
    "print('coef = {0:4.2f}'.format(sum(lr1.coef_ ** 2)))"
   ]
  },
  {
   "cell_type": "code",
   "execution_count": 120,
   "id": "eef0aa01",
   "metadata": {},
   "outputs": [
    {
     "name": "stdout",
     "output_type": "stream",
     "text": [
      "Ridge\n",
      "CRIM      :  -0.10\n",
      "ZN        :   0.05\n",
      "INDUS     :  -0.04\n",
      "CHAS      :   1.95\n",
      "NOX       :  -2.37\n",
      "RM        :   3.70\n",
      "AGE       :  -0.01\n",
      "DIS       :  -1.25\n",
      "RAD       :   0.28\n",
      "TAX       :  -0.01\n",
      "PTRATIO   :  -0.80\n",
      "B         :   0.01\n",
      "LSTAT     :  -0.56\n",
      "coef = 25.74\n"
     ]
    }
   ],
   "source": [
    "print('Ridge')\n",
    "for feature, c in zip(features, lr2.coef_):\n",
    "    print('{0:10s}: {1:6.2f}'.format(feature, c))\n",
    "print('coef = {0:4.2f}'.format(sum(lr2.coef_ ** 2)))"
   ]
  },
  {
   "cell_type": "code",
   "execution_count": 121,
   "id": "7634dec8",
   "metadata": {},
   "outputs": [
    {
     "name": "stdout",
     "output_type": "stream",
     "text": [
      "Lasso\n",
      "CRIM      :  -0.02\n",
      "ZN        :   0.04\n",
      "INDUS     :  -0.00\n",
      "CHAS      :   0.00\n",
      "NOX       :  -0.00\n",
      "RM        :   0.00\n",
      "AGE       :   0.04\n",
      "DIS       :  -0.07\n",
      "RAD       :   0.17\n",
      "TAX       :  -0.01\n",
      "PTRATIO   :  -0.56\n",
      "B         :   0.01\n",
      "LSTAT     :  -0.82\n",
      "coef = 1.02\n"
     ]
    }
   ],
   "source": [
    "print('Lasso')\n",
    "for feature, c in zip(features, lr3.coef_):\n",
    "    print('{0:10s}: {1:6.2f}'.format(feature, c))\n",
    "print('coef = {0:4.2f}'.format(sum(lr3.coef_ ** 2)))"
   ]
  },
  {
   "cell_type": "code",
   "execution_count": null,
   "id": "78c32845",
   "metadata": {},
   "outputs": [],
   "source": []
  }
 ],
 "metadata": {
  "kernelspec": {
   "display_name": "Python 3 (ipykernel)",
   "language": "python",
   "name": "python3"
  },
  "language_info": {
   "codemirror_mode": {
    "name": "ipython",
    "version": 3
   },
   "file_extension": ".py",
   "mimetype": "text/x-python",
   "name": "python",
   "nbconvert_exporter": "python",
   "pygments_lexer": "ipython3",
   "version": "3.10.0"
  }
 },
 "nbformat": 4,
 "nbformat_minor": 5
}
